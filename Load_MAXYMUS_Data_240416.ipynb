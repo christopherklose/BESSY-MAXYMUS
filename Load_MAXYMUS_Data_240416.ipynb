{
 "cells": [
  {
   "cell_type": "markdown",
   "metadata": {},
   "source": [
    "This script is for loading and saving the image with a scale bar."
   ]
  },
  {
   "cell_type": "markdown",
   "metadata": {},
   "source": [
    "# Import libraries\n",
    "\n",
    "You might need to install the scalebar library: $\\mathtt{pip\\; install\\; matplotlib-scalebar}$"
   ]
  },
  {
   "cell_type": "code",
   "execution_count": null,
   "metadata": {
    "tags": []
   },
   "outputs": [],
   "source": [
    "# Basic\n",
    "import os, sys\n",
    "from os.path import join\n",
    "from importlib import reload\n",
    "\n",
    "# Data\n",
    "import numpy as np\n",
    "import pandas as pd\n",
    "import h5py\n",
    "\n",
    "# Plotting\n",
    "import imageio\n",
    "import matplotlib.pyplot as plt\n",
    "from matplotlib_scalebar.scalebar import ScaleBar\n",
    "\n",
    "# skimage\n",
    "import skimage as sk\n",
    "from skimage.registration import phase_cross_correlation\n",
    "\n",
    "# scipy\n",
    "from scipy.ndimage import gaussian_filter, fourier_shift\n",
    "\n",
    "# self-written library\n",
    "sys.path.append(join(os.getcwd(), \"library\"))\n",
    "import pymaxymus as mx"
   ]
  },
  {
   "cell_type": "code",
   "execution_count": null,
   "metadata": {
    "tags": []
   },
   "outputs": [],
   "source": [
    "# interactive plotting (WIDGET for jupyter lab, NOTEBOOK for jupyter notebook)\n",
    "import ipywidgets\n",
    "\n",
    "%matplotlib widget\n",
    "\n",
    "# Auto formatting\n",
    "%load_ext jupyter_black"
   ]
  },
  {
   "cell_type": "markdown",
   "metadata": {},
   "source": [
    "# Experiment Specific functions"
   ]
  },
  {
   "cell_type": "code",
   "execution_count": null,
   "metadata": {
    "tags": []
   },
   "outputs": [],
   "source": [
    "def FFT(image):\n",
    "    \"\"\"\n",
    "    Fourier transform\n",
    "    -------\n",
    "    author: CK 2021\n",
    "    \"\"\"\n",
    "    return np.fft.fftshift(np.fft.fft2(np.fft.ifftshift(image)))"
   ]
  },
  {
   "cell_type": "code",
   "execution_count": null,
   "metadata": {
    "tags": []
   },
   "outputs": [],
   "source": [
    "# scipy\n",
    "from scipy.ndimage import fourier_shift\n",
    "from scipy.ndimage import shift as scipy_shift\n",
    "\n",
    "\n",
    "def shift_image(image, shift, interpolation=True, out_dtype=\"numpy\"):\n",
    "    \"\"\"\n",
    "    Shifts image with sub-pixel precission in Fourier space\n",
    "\n",
    "\n",
    "    Parameters\n",
    "    ----------\n",
    "    image: cupy array\n",
    "        Moving image, will be shifted by shift vector\n",
    "\n",
    "    shift: vector\n",
    "        x and y translation in px\n",
    "\n",
    "    out_dtype : string\n",
    "        output data as numpy or cupy array\n",
    "\n",
    "    Returns\n",
    "    -------\n",
    "    image_shifted: cupy/numpy array\n",
    "        Shifted image\n",
    "    -------\n",
    "    author: CK 2023\n",
    "    \"\"\"\n",
    "\n",
    "    # Shift Image\n",
    "    image = np.array(image)\n",
    "\n",
    "    if interpolation is True:\n",
    "        shift_image = scipy_shift(image, shift, mode=\"reflect\")\n",
    "    else:\n",
    "        shift_image = fourier_shift(np.fft.fft2(image), shift)\n",
    "        shift_image = np.fft.ifft2(shift_image)\n",
    "        shift_image = shift_image.real\n",
    "\n",
    "    return shift_image\n",
    "\n",
    "\n",
    "def image_registration(image_unproccessed, image_background, roi=None, im_out=False):\n",
    "    \"\"\"\n",
    "    Aligns two images with sub-pixel precission through image registration\n",
    "\n",
    "\n",
    "    Parameters\n",
    "    ----------\n",
    "    image_unproccessed: cupy array\n",
    "        Moving image, will be aligned with respect to image_background\n",
    "\n",
    "    image_background: cupy array\n",
    "        static reference image\n",
    "\n",
    "    roi: region of interest defining the region of the images used to calc\n",
    "        the alignment\n",
    "\n",
    "    im_out: bool\n",
    "        return also corrected image if true\n",
    "\n",
    "    Returns\n",
    "    -------\n",
    "    image_corrected: array\n",
    "        Shifted/aligned moving image\n",
    "    shift: array\n",
    "        shift (dy,dx)\n",
    "    -------\n",
    "    author: CK 2022\n",
    "    \"\"\"\n",
    "\n",
    "    # Calculate Shift\n",
    "    if roi == None:\n",
    "        shift, error, diffphase = phase_cross_correlation(\n",
    "            image_background, image_unproccessed, upsample_factor=100\n",
    "        )\n",
    "    else:\n",
    "        shift, error, diffphase = phase_cross_correlation(\n",
    "            image_background[\n",
    "                roi[2] : roi[3],\n",
    "                image_unproccessed[roi[2] : roi[3], roi[0] : roi[1]],\n",
    "                roi[0] : roi[1],\n",
    "            ],\n",
    "            upsample_factor=100,\n",
    "        )\n",
    "\n",
    "    # print(f'Detected pixel shift (y, x): {shift}')\n",
    "\n",
    "    if im_out == True:\n",
    "        # Shift Image\n",
    "        image_corrected = shift_image(image_unproccessed, shift)\n",
    "\n",
    "        return image_corrected, shift\n",
    "    else:\n",
    "        return shift"
   ]
  },
  {
   "cell_type": "code",
   "execution_count": null,
   "metadata": {
    "tags": []
   },
   "outputs": [],
   "source": [
    "from ipywidgets import FloatRangeSlider, FloatSlider, Button, interact, IntSlider\n",
    "\n",
    "\n",
    "def cimshow(im, **kwargs):\n",
    "    \"\"\"Simple 2d image plot with adjustable contrast.\n",
    "\n",
    "    Returns matplotlib figure and axis created.\n",
    "    \"\"\"\n",
    "    im = np.array(im)\n",
    "    fig, ax = plt.subplots()\n",
    "    im0 = im[0] if len(im.shape) == 3 else im\n",
    "    mm = ax.imshow(im0, **kwargs)\n",
    "\n",
    "    cmin, cmax, vmin, vmax = np.nanpercentile(im, [0.1, 99.9, 0.001, 99.999])\n",
    "    # vmin, vmax = np.nanmin(im), np.nanmax(im)\n",
    "    sl_contrast = FloatRangeSlider(\n",
    "        value=(cmin, cmax),\n",
    "        min=vmin,\n",
    "        max=vmax,\n",
    "        step=(vmax - vmin) / 500,\n",
    "        layout=ipywidgets.Layout(width=\"500px\"),\n",
    "    )\n",
    "\n",
    "    @ipywidgets.interact(contrast=sl_contrast)\n",
    "    def update(contrast):\n",
    "        mm.set_clim(contrast)\n",
    "\n",
    "    if len(im.shape) == 3:\n",
    "        w_image = IntSlider(value=0, min=0, max=im.shape[0] - 1)\n",
    "\n",
    "        @ipywidgets.interact(nr=w_image)\n",
    "        def set_image(nr):\n",
    "            mm.set_data(im[nr])\n",
    "\n",
    "    return fig, ax"
   ]
  },
  {
   "cell_type": "code",
   "execution_count": null,
   "metadata": {
    "tags": []
   },
   "outputs": [],
   "source": [
    "def max_plot(\n",
    "    data,\n",
    "    destination,\n",
    "    pixel_size,\n",
    "    length_fraction,\n",
    "    color,\n",
    "    location=1,\n",
    "    units=\"nm\",\n",
    "    cmap=\"gray\",\n",
    "    size=(2, 2),\n",
    "    save=True,\n",
    "    scale=(0, 100),\n",
    "    rang=(0, -1),\n",
    "):\n",
    "    \"\"\"\n",
    "    Plot single image recorded at the MAXYMUS microscope at BESSY.\n",
    "    INPUT:\n",
    "        data: data set\n",
    "        destination: filename where to save the image\n",
    "        pixel_size: size of one pixel in nm (otherwise change units)\n",
    "        length_fraction: length of the scale bar\n",
    "        color: color of the scale bar ('w' for white and 'k' for black)\n",
    "        location: location of the scale bar (default is 1, right upper corner)\n",
    "        units: unit of the pixel_size (default is 'nm')\n",
    "        cmap: matplotlib colormap (default is 'gray')\n",
    "        save: boolean variable if you want to save the image at destination (default is True)\n",
    "        scale: scale of the image in percentile (default is (0,100))\n",
    "    OUTPUT:\n",
    "        no output, plots the image\n",
    "    KG 01.2020\n",
    "    \"\"\"\n",
    "    mi, ma = np.percentile(data[rang[0] : rang[1], :], scale)\n",
    "\n",
    "    # plot the image and save it as .png\n",
    "    fig, ax = plt.subplots(figsize=(6, 6))\n",
    "    ax.imshow(data, cmap=cmap, vmin=mi, vmax=ma, origin=\"lower\")\n",
    "    scalebar = ScaleBar(\n",
    "        pixel_size,\n",
    "        units=units,\n",
    "        frameon=False,\n",
    "        color=color,\n",
    "        fixed_value=length_fraction,\n",
    "        location=location,\n",
    "    )\n",
    "    ax.add_artist(scalebar)\n",
    "    plt.tight_layout()\n",
    "    if save:\n",
    "        plt.savefig(destination, dpi=150)\n",
    "    return fig, ax"
   ]
  },
  {
   "cell_type": "markdown",
   "metadata": {},
   "source": [
    "# Load Data\n",
    "\n",
    "Load the data.\n",
    "\n",
    "1. Specify some parameters.\n",
    "2. Load the header.\n",
    "3. Load the image data."
   ]
  },
  {
   "cell_type": "markdown",
   "metadata": {},
   "source": [
    "# Functions"
   ]
  },
  {
   "cell_type": "code",
   "execution_count": null,
   "metadata": {},
   "outputs": [],
   "source": [
    "# List of h5 keys for simple loading\n",
    "mnemonics = dict()\n",
    "mnemonics[\"image\"] = \"/entry1/APD/data\"\n",
    "mnemonics[\"energy\"] = \"/entry1/APD/energy\"\n",
    "mnemonics[\"sample_x\"] = \"/entry1/APD/sample_x\"\n",
    "mnemonics[\"sample_y\"] = \"/entry1/APD/sample_y\"\n",
    "mnemonics[\"magnetic_field\"] = \"/entry1/APD/magnetic_field\""
   ]
  },
  {
   "cell_type": "code",
   "execution_count": null,
   "metadata": {},
   "outputs": [],
   "source": [
    "def load_image(im_id):\n",
    "    fname = join(data_folder, \"%s_%03d.hdf5\" % (file_prefix, im_id))\n",
    "    print(\"Loading: %s\" % fname)\n",
    "\n",
    "    if os.path.exists(fname):\n",
    "        exist_flag = True\n",
    "        with h5py.File(fname, \"r\") as f:\n",
    "            image = f[mnemonics[\"image\"]][()]\n",
    "    else:\n",
    "        print(\"File does not exist!\")\n",
    "        exist_flag = False\n",
    "        image = np.array(np.zeros((2, 2)))\n",
    "\n",
    "    return image, exist_flag\n",
    "\n",
    "\n",
    "def load_images(im_id_list):\n",
    "    images = []\n",
    "\n",
    "    for im_id in im_id_list:\n",
    "        image = load_image(im_id)\n",
    "        images.append(image)\n",
    "\n",
    "    return images\n",
    "\n",
    "\n",
    "def get_pixel_size(im_id):\n",
    "    fname = join(data_folder, \"%s_%03d.hdf5\" % (file_prefix, im_id))\n",
    "    print(\"Loading: %s\" % fname)\n",
    "    with h5py.File(fname, \"r\") as f:\n",
    "        sample_x = f[mnemonics[\"sample_x\"]][()]\n",
    "        sample_y = f[mnemonics[\"sample_y\"]][()]\n",
    "\n",
    "    # Calc pixel size from file\n",
    "    pixel_size_x = np.round(np.mean(np.abs(sample_x[0:-2] - sample_x[1:-1])), 3)\n",
    "    pixel_size_y = np.round(np.mean(np.abs(sample_y[0:-2] - sample_y[1:-1])), 3)\n",
    "\n",
    "    return (pixel_size_y, pixel_size_x)"
   ]
  },
  {
   "cell_type": "markdown",
   "metadata": {},
   "source": [
    "## Parameters\n",
    "\n",
    "Specify the date from the data prefix. If you want to load an XMCD data set, set the boolean variable XMCD to True and specify positive and negative helicity image. Set the folder where the raw data is located (you might need to include a folder name according the the date via **'%i'%date**."
   ]
  },
  {
   "cell_type": "code",
   "execution_count": null,
   "metadata": {
    "tags": []
   },
   "outputs": [],
   "source": [
    "# Just Basic folder structures for loading and saving\n",
    "# For maxymus folder\n",
    "date = \"2024-04-16\"\n",
    "\n",
    "# Combine paths\n",
    "file_prefix = \"Sample_Image_%s\" % date\n",
    "\n",
    "# Input folder\n",
    "data_folder = join(\"Z:\\\\data2\", date)\n",
    "# data_folder = os.getcwd()\n",
    "\n",
    "# save folder\n",
    "folder_save = r\"C:\\Users\\maike\\OneDrive\\Desktop\\Max-Born\\Maxymus_April\"\n",
    "folder_save = (\n",
    "    r\"C:\\Users\\klose\\MBI - Klose\\Projects\\BESSY_MAXYMUS_24_04_Skyrmion\\Analysis\\%s\"\n",
    "    % date\n",
    ")\n",
    "# folder_save = join(os.getcwd(), \"analysis\")\n",
    "\n",
    "# Other\n",
    "entryNumber = \"entry1\"\n",
    "detector = \"APD\"\n",
    "\n",
    "# Save Name\n",
    "# Create save folder of it does not exit yet\n",
    "if not (os.path.exists(folder_save)):\n",
    "    print(\"Creating folder \" + folder_save)\n",
    "    os.mkdir(folder_save)"
   ]
  },
  {
   "cell_type": "code",
   "execution_count": null,
   "metadata": {
    "tags": []
   },
   "outputs": [],
   "source": [
    "# Define Scan id for loading\n",
    "n_pos = 62\n",
    "\n",
    "# do you have an xmcd data set? (record with both helicity)\n",
    "XMCD = False\n",
    "\n",
    "if XMCD is True:\n",
    "    n_neg = 0"
   ]
  },
  {
   "cell_type": "markdown",
   "metadata": {},
   "source": [
    "## Data\n",
    "\n",
    "Load the data."
   ]
  },
  {
   "cell_type": "code",
   "execution_count": null,
   "metadata": {
    "tags": []
   },
   "outputs": [],
   "source": [
    "if XMCD:\n",
    "    pos = load_image(n_pos)\n",
    "    neg = load_image(n_neg)\n",
    "    data = np.log(pos / neg)\n",
    "    topo = pos + neg\n",
    "\n",
    "    figure_save = join(folder_save, \"MAXYMUS_%s-%03d_%03d.png\" % (date, n_pos, n_neg))\n",
    "    print(\"Image saved as: %s\" % figure_save)\n",
    "\n",
    "elif XMCD is False:\n",
    "    data = load_image(n_pos)\n",
    "    figure_save = join(folder_save, \"MAXYMUS_%s-%03d.png\" % (date, n_pos))\n",
    "    print(\"Image saved as: %s\" % figure_save)\n",
    "\n",
    "pixel_size, pixel_size_x = get_pixel_size(n_pos)\n",
    "size = np.array(data.shape) / 50"
   ]
  },
  {
   "cell_type": "markdown",
   "metadata": {},
   "source": [
    "# Plot single image"
   ]
  },
  {
   "cell_type": "code",
   "execution_count": null,
   "metadata": {
    "tags": []
   },
   "outputs": [],
   "source": [
    "# Plotting with cimshow\n",
    "fig, ax = cimshow(np.flipud(data), cmap=\"gray\")\n",
    "ax.set_title(\"ImID: %03d\" % n_pos)\n",
    "scalebar = ScaleBar(\n",
    "    pixel_size * 1e-3, units=\"um\", frameon=False, color=\"r\", fixed_value=1, location=1\n",
    ")\n",
    "\n",
    "plt.gca().add_artist(scalebar)\n",
    "# fig.colorbar(mm, ax=ax)"
   ]
  },
  {
   "cell_type": "code",
   "execution_count": null,
   "metadata": {
    "tags": []
   },
   "outputs": [],
   "source": [
    "# Execute save\n",
    "fname = join(folder_save, \"MAXYMUS_%s-%03d.png\" % (date, n_pos))\n",
    "print(\"Saving: %s\" % fname)\n",
    "plt.savefig(fname, dpi=300)"
   ]
  },
  {
   "cell_type": "code",
   "execution_count": null,
   "metadata": {
    "tags": []
   },
   "outputs": [],
   "source": [
    "## Maxymus plotting\n",
    "fname = join(folder_save, \"MAXYMUS_%s-%03d.png\" % (date, n_pos))\n",
    "fig, ax = max_plot(\n",
    "    data,\n",
    "    fname,\n",
    "    pixel_size * 1e-3,\n",
    "    1,\n",
    "    \"r\",\n",
    "    size=(size[1], size[0]),\n",
    "    units=\"um\",\n",
    "    save=False,\n",
    "    scale=(1, 95),\n",
    "    cmap=\"gray\",\n",
    ")\n",
    "ax.set_title(\"ImID: %03d\" % n_pos)\n",
    "print(\"Saving: %s\" % fname)\n",
    "plt.tight_layout()\n",
    "plt.savefig(fname, dpi=300)"
   ]
  },
  {
   "cell_type": "markdown",
   "metadata": {},
   "source": [
    "# Loop this "
   ]
  },
  {
   "cell_type": "code",
   "execution_count": null,
   "metadata": {
    "tags": []
   },
   "outputs": [],
   "source": [
    "#### Define image ids\n",
    "im_ids = np.arange(198, 207)\n",
    "\n",
    "# Loop over different ids\n",
    "images = []\n",
    "for im_id in im_ids:\n",
    "    if XMCD:\n",
    "        pos = load_image(im_id)\n",
    "        neg = load_image(n_neg)\n",
    "        data = np.log(pos / neg)\n",
    "        topo = pos + neg\n",
    "\n",
    "        figure_save = join(\n",
    "            folder_save, \"MAXYMUS_%s-%03d_%03d_looped.png\" % (date, im_id, n_neg)\n",
    "        )\n",
    "\n",
    "    elif XMCD is False:\n",
    "        data, exist_flag = load_image(im_id)\n",
    "        figure_save = join(folder_save, \"MAXYMUS_%s-%03d_looped.png\" % (date, im_id))\n",
    "\n",
    "    if exist_flag is True:\n",
    "        images.append(data)\n",
    "        size = np.array(data.shape) / 50\n",
    "\n",
    "        # Plot and save\n",
    "        fig, ax = max_plot(\n",
    "            data,\n",
    "            fname,\n",
    "            pixel_size * 1e-3,\n",
    "            1,\n",
    "            \"r\",\n",
    "            size=(size[1], size[0]),\n",
    "            units=\"um\",\n",
    "            save=False,\n",
    "            scale=(1, 99),  # (20, 61), #(6, 63)\n",
    "            cmap=\"gray\",\n",
    "            # rang=(20, 40),\n",
    "        )\n",
    "        ax.set_title(\"ImID: %03d\" % im_id)\n",
    "        print(\"Saving: %s\" % figure_save)\n",
    "        plt.tight_layout()\n",
    "        plt.savefig(figure_save, dpi=300)"
   ]
  },
  {
   "cell_type": "code",
   "execution_count": null,
   "metadata": {},
   "outputs": [],
   "source": [
    "# Slide Show viewer of all images\n",
    "fig, ax = cimshow(images, cmap=\"gray\")\n",
    "ax.set_title(\"All looped images\")"
   ]
  },
  {
   "cell_type": "markdown",
   "metadata": {},
   "source": [
    "# Pandas data handling playground"
   ]
  },
  {
   "cell_type": "code",
   "execution_count": null,
   "metadata": {},
   "outputs": [],
   "source": [
    "def load_data_dict(file_prefix, scan_id):\n",
    "    fname = join(data_folder, \"%s_%03d.hdf5\" % (file_prefix, scan_id))\n",
    "    print(\"Loading: %s\" % fname)\n",
    "\n",
    "    data = dict()\n",
    "\n",
    "    if os.path.exists(fname):\n",
    "        with h5py.File(fname, \"r\") as f:\n",
    "            data[\"scan_id\"] = scan_id\n",
    "            for key in f[entryNumber][detector].keys():\n",
    "                data[key] = f[entryNumber][detector][key][()]\n",
    "    else:\n",
    "        print(\"File does not exist!\")\n",
    "        data[\"scan_id\"] = scan_id\n",
    "\n",
    "    return data\n",
    "\n",
    "\n",
    "def load_data_to_pandas(scan_id_list, stack=False):\n",
    "    if stack is True:\n",
    "        prefix = \"Sample_Stack_%s\" % date\n",
    "    elif stack is False:\n",
    "        prefix = \"Sample_Image_%s\" % date\n",
    "\n",
    "    data = []\n",
    "    for scan_id in scan_id_list:\n",
    "        data.append(load_data_dict(prefix, scan_id))\n",
    "\n",
    "    df = pd.DataFrame(data)\n",
    "    df.set_index(\"scan_id\", inplace=True)\n",
    "\n",
    "    return df\n",
    "\n",
    "\n",
    "def get_title(scan_id, value, key):\n",
    "    if key == \"magnetic_field\":\n",
    "        title = \"ScanId: %d, Magnetic Field: %.1f mT\" % (scan_id, value)\n",
    "    else:\n",
    "        title = \"ScanId: %d, %s: %.4f \" % (scan_id, key, value)\n",
    "\n",
    "    return title"
   ]
  },
  {
   "cell_type": "code",
   "execution_count": null,
   "metadata": {
    "tags": []
   },
   "outputs": [],
   "source": [
    "# Define for loading\n",
    "scan_ids = [162, 194]  # np.arange(146, 190)\n",
    "stack = True\n",
    "scan_key = \"magnetic_field\"\n",
    "\n",
    "# Loading of data\n",
    "data = load_data_to_pandas(scan_ids, stack=stack)\n",
    "data = data.dropna()\n",
    "data"
   ]
  },
  {
   "cell_type": "code",
   "execution_count": null,
   "metadata": {},
   "outputs": [],
   "source": [
    "# Slide show image viewer\n",
    "fig, ax = cimshow(data[\"data\"].values[0], cmap=\"gray\")"
   ]
  },
  {
   "cell_type": "code",
   "execution_count": null,
   "metadata": {
    "tags": []
   },
   "outputs": [],
   "source": [
    "for j, scan_id in enumerate(scan_ids):\n",
    "    # Plot hysteresis or any other key\n",
    "    folder = join(folder_save, \"%s_%d\" % (scan_key, scan_id))\n",
    "    if not (os.path.exists(folder)):\n",
    "        print(\"Creating folder \" + folder)\n",
    "        os.makedirs(folder)\n",
    "\n",
    "    flist = []\n",
    "    for i, xdata in enumerate(data[scan_key].values[j]):\n",
    "        image = data[\"data\"].values[j][i]\n",
    "        vmin, vmax = np.percentile(image, [1, 99])\n",
    "\n",
    "        fig, ax = plt.subplots(figsize=(8, 8))\n",
    "        ax.imshow(image, vmin=vmin, vmax=vmax, cmap=\"gray\")\n",
    "        ax.set_title(get_title(scan_id, xdata, scan_key))\n",
    "\n",
    "        pixel_size = np.round(\n",
    "            np.mean(\n",
    "                np.abs(\n",
    "                    data[\"sample_x\"].values[j][0:-2] - data[\"sample_x\"].values[j][1:-1]\n",
    "                )\n",
    "            ),\n",
    "            3,\n",
    "        )\n",
    "        scalebar = ScaleBar(\n",
    "            pixel_size,\n",
    "            units=\"um\",\n",
    "            frameon=False,\n",
    "            color=\"r\",\n",
    "            fixed_value=1,\n",
    "            location=1,\n",
    "        )\n",
    "\n",
    "        plt.gca().add_artist(scalebar)\n",
    "\n",
    "        fname = join(folder, \"%s_ScanID_%03d_%03d.png\" % (scan_key, scan_id, i))\n",
    "        flist.append(fname)\n",
    "        # print(\"Saving: %s\" % fname)\n",
    "        plt.savefig(fname)\n",
    "\n",
    "    # Load files\n",
    "    var = [imageio.imread(file) for file in flist]\n",
    "    images = np.stack(var, axis=0)\n",
    "    gif_path = join(folder_save, \"%s_ScanID_%03d.gif\" % (scan_key, scan_id))\n",
    "    print(f\"Now saving:\", gif_path)\n",
    "    imageio.mimsave(gif_path, var, fps=2)"
   ]
  },
  {
   "cell_type": "code",
   "execution_count": null,
   "metadata": {},
   "outputs": [],
   "source": [
    "plt.close(\"all\")"
   ]
  },
  {
   "cell_type": "code",
   "execution_count": null,
   "metadata": {},
   "outputs": [],
   "source": [
    "# Plot x-y positions\n",
    "xdata = data[\"sample_x\"].tolist()\n",
    "ydata = data[\"sample_y\"].tolist()\n",
    "print(\n",
    "    \"x-data: %0.2f, %0.2f , y-data: %0.2f, %0.2f\"\n",
    "    % (np.min(xdata), np.max(xdata), np.min(ydata), np.max(ydata))\n",
    ")\n",
    "\n",
    "fig, ax = plt.subplots(1, 2, figsize=(10, 5))\n",
    "fig.suptitle(\"ScanId: %s\" % n_pos)\n",
    "for idx in range(len(xdata)):\n",
    "    ax[0].plot(xdata[idx], \"o\")\n",
    "    ax[0].set_xlabel(\"Position idx\")\n",
    "    ax[0].set_ylabel(\"sample_x\")\n",
    "    ax[0].grid()\n",
    "\n",
    "for idx in range(len(ydata)):\n",
    "    ax[1].plot(ydata[idx], \"o\")\n",
    "    ax[1].set_xlabel(\"Position idx\")\n",
    "    ax[1].set_ylabel(\"sample_y\")\n",
    "    ax[1].grid()"
   ]
  },
  {
   "cell_type": "code",
   "execution_count": null,
   "metadata": {},
   "outputs": [],
   "source": []
  }
 ],
 "metadata": {
  "kernelspec": {
   "display_name": "Python 3 (ipykernel)",
   "language": "python",
   "name": "python3"
  },
  "language_info": {
   "codemirror_mode": {
    "name": "ipython",
    "version": 3
   },
   "file_extension": ".py",
   "mimetype": "text/x-python",
   "name": "python",
   "nbconvert_exporter": "python",
   "pygments_lexer": "ipython3",
   "version": "3.9.12"
  },
  "toc": {
   "base_numbering": 1,
   "nav_menu": {},
   "number_sections": true,
   "sideBar": true,
   "skip_h1_title": false,
   "title_cell": "Table of Contents",
   "title_sidebar": "Contents",
   "toc_cell": false,
   "toc_position": {
    "height": "calc(100% - 180px)",
    "left": "10px",
    "top": "150px",
    "width": "210px"
   },
   "toc_section_display": true,
   "toc_window_display": true
  },
  "toc-autonumbering": true,
  "varInspector": {
   "cols": {
    "lenName": 16,
    "lenType": 16,
    "lenVar": 40
   },
   "kernels_config": {
    "python": {
     "delete_cmd_postfix": "",
     "delete_cmd_prefix": "del ",
     "library": "var_list.py",
     "varRefreshCmd": "print(var_dic_list())"
    },
    "r": {
     "delete_cmd_postfix": ") ",
     "delete_cmd_prefix": "rm(",
     "library": "var_list.r",
     "varRefreshCmd": "cat(var_dic_list()) "
    }
   },
   "position": {
    "height": "785.85px",
    "left": "1488px",
    "right": "20px",
    "top": "24px",
    "width": "355px"
   },
   "types_to_exclude": [
    "module",
    "function",
    "builtin_function_or_method",
    "instance",
    "_Feature"
   ],
   "window_display": true
  }
 },
 "nbformat": 4,
 "nbformat_minor": 4
}
